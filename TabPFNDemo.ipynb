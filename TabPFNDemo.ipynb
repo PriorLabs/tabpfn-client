{
  "nbformat": 4,
  "nbformat_minor": 0,
  "metadata": {
    "colab": {
      "provenance": [],
      "authorship_tag": "ABX9TyNB33JG4QflgLBUIC4wgyQr",
      "include_colab_link": true
    },
    "kernelspec": {
      "name": "python3",
      "display_name": "Python 3"
    },
    "language_info": {
      "name": "python"
    }
  },
  "cells": [
    {
      "cell_type": "markdown",
      "metadata": {
        "id": "view-in-github",
        "colab_type": "text"
      },
      "source": [
        "<a href=\"https://colab.research.google.com/github/liam-sbhoo/tabpfn-client/blob/use-cmdline-for-registration-and-login/TabPFNDemo.ipynb\" target=\"_parent\"><img src=\"https://colab.research.google.com/assets/colab-badge.svg\" alt=\"Open In Colab\"/></a>"
      ]
    },
    {
      "cell_type": "markdown",
      "source": [
        "# Prepare the environment and data"
      ],
      "metadata": {
        "id": "yGgC84dF-Qtw"
      }
    },
    {
      "cell_type": "code",
      "execution_count": null,
      "metadata": {
        "id": "4fmqMI0B9_P8"
      },
      "outputs": [],
      "source": [
        "!pip install --extra-index-url https://test.pypi.org/simple/ tabpfn-client"
      ]
    },
    {
      "cell_type": "code",
      "source": [
        "from sklearn.datasets import load_breast_cancer\n",
        "from sklearn.model_selection import train_test_split\n",
        "\n",
        "X, y = load_breast_cancer(return_X_y=True)\n",
        "X_train, X_test, y_train, y_test = train_test_split(X, y, test_size=0.33, random_state=42)"
      ],
      "metadata": {
        "id": "pxFf6mOvSVYT"
      },
      "execution_count": null,
      "outputs": []
    },
    {
      "cell_type": "markdown",
      "source": [
        "# Predicting with on-server TabPFN"
      ],
      "metadata": {
        "id": "HocUGX_vAqw0"
      }
    },
    {
      "cell_type": "code",
      "source": [
        "from tabpfn_client import tabpfn_classifier\n",
        "from tabpfn_client import TabPFNClassifier"
      ],
      "metadata": {
        "id": "vqjL4a-O_Xou"
      },
      "execution_count": null,
      "outputs": []
    },
    {
      "cell_type": "code",
      "source": [
        "tabpfn_classifier.init()"
      ],
      "metadata": {
        "id": "c_0-a9apjykl"
      },
      "execution_count": null,
      "outputs": []
    },
    {
      "cell_type": "code",
      "source": [
        "tabpfn = TabPFNClassifier()\n",
        "tabpfn.fit(X_train, y_train)"
      ],
      "metadata": {
        "id": "qszrlos2gPKT"
      },
      "execution_count": null,
      "outputs": []
    },
    {
      "cell_type": "code",
      "source": [
        "tabpfn.predict(X_test)"
      ],
      "metadata": {
        "id": "ZQq0W_iNsGFF"
      },
      "execution_count": null,
      "outputs": []
    },
    {
      "cell_type": "code",
      "source": [
        "tabpfn.predict_proba(X_test)"
      ],
      "metadata": {
        "id": "BK8tJnw9sXBw"
      },
      "execution_count": null,
      "outputs": []
    },
    {
      "cell_type": "markdown",
      "source": [
        "# Predict with local TabPFN"
      ],
      "metadata": {
        "id": "c5soEuIGgx91"
      }
    },
    {
      "cell_type": "code",
      "source": [
        "tabpfn_classifier.init(use_server=False)"
      ],
      "metadata": {
        "id": "-Ejxwao9g0PT"
      },
      "execution_count": null,
      "outputs": []
    },
    {
      "cell_type": "code",
      "source": [
        "tabpfn = TabPFNClassifier(device=\"cpu\")\n",
        "tabpfn.fit(X_train, y_train)"
      ],
      "metadata": {
        "id": "4Lheug3ig5G-"
      },
      "execution_count": null,
      "outputs": []
    },
    {
      "cell_type": "code",
      "source": [
        "tabpfn.predict(X_test)"
      ],
      "metadata": {
        "id": "uPM682Qeg8sn"
      },
      "execution_count": null,
      "outputs": []
    },
    {
      "cell_type": "code",
      "source": [
        "tabpfn.predict_proba(X_test)"
      ],
      "metadata": {
        "id": "InXD6s0Yg-79"
      },
      "execution_count": null,
      "outputs": []
    }
  ]
}