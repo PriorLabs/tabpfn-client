{
 "cells": [
  {
   "cell_type": "code",
   "execution_count": 1,
   "id": "initial_id",
   "metadata": {
    "collapsed": true,
    "ExecuteTime": {
     "end_time": "2023-09-27T14:00:06.691188Z",
     "start_time": "2023-09-27T14:00:04.103582Z"
    }
   },
   "outputs": [],
   "source": [
    "from tabpfn_client import tabpfn_classifier\n",
    "from tabpfn_client.tabpfn_classifier import TabPFNClassifier"
   ]
  },
  {
   "cell_type": "code",
   "execution_count": 2,
   "outputs": [
    {
     "name": "stdout",
     "output_type": "stream",
     "text": [
      "API key is saved to /Users/shibinhoo/Documents/freiburg-cs/tabpfn-client/access_token.txt for future use.\n"
     ]
    }
   ],
   "source": [
    "tabpfn_classifier.init()"
   ],
   "metadata": {
    "collapsed": false,
    "ExecuteTime": {
     "end_time": "2023-09-27T14:00:38.788520Z",
     "start_time": "2023-09-27T14:00:10.546033Z"
    }
   },
   "id": "c50c6a5f3f38fb66"
  },
  {
   "cell_type": "code",
   "execution_count": 3,
   "outputs": [
    {
     "name": "stdout",
     "output_type": "stream",
     "text": [
      "base_path /Users/shibinhoo/Documents/freiburg-cs/tabpfn-client\n"
     ]
    }
   ],
   "source": [
    "from tabpfn_client import TabPFNClassifier\n",
    "\n",
    "tabpfn = TabPFNClassifier()"
   ],
   "metadata": {
    "collapsed": false,
    "ExecuteTime": {
     "end_time": "2023-09-27T14:01:10.970644Z",
     "start_time": "2023-09-27T14:01:10.940513Z"
    }
   },
   "id": "150922cf7c599d25"
  },
  {
   "cell_type": "code",
   "execution_count": null,
   "outputs": [],
   "source": [],
   "metadata": {
    "collapsed": false
   },
   "id": "17e76ba0324dadc8"
  }
 ],
 "metadata": {
  "kernelspec": {
   "display_name": "Python 3",
   "language": "python",
   "name": "python3"
  },
  "language_info": {
   "codemirror_mode": {
    "name": "ipython",
    "version": 2
   },
   "file_extension": ".py",
   "mimetype": "text/x-python",
   "name": "python",
   "nbconvert_exporter": "python",
   "pygments_lexer": "ipython2",
   "version": "2.7.6"
  }
 },
 "nbformat": 4,
 "nbformat_minor": 5
}
